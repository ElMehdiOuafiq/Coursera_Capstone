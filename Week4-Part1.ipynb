{
 "cells": [
  {
   "cell_type": "markdown",
   "metadata": {
    "colab_type": "text",
    "id": "6yyLgGK7oIYR"
   },
   "source": [
    "<h1 align=\"center\">Leveraging Machine Learning Clustering of the Neighbourhoods of London and Paris - A Tale of Two cities</h1>"
   ]
  },
  {
   "cell_type": "markdown",
   "metadata": {
    "colab_type": "text",
    "id": "2mGZf__gI-nX"
   },
   "source": [
    "<p align =\"center\"> El Mehdi OUAFIQ\n",
    "<br>\n",
    "<br>\n",
    "20th March 2021\n",
    "</p>"
   ]
  },
  {
   "cell_type": "markdown",
   "metadata": {
    "colab_type": "text",
    "id": "MeV3b1twUm8I"
   },
   "source": [
    "# 1. Introduction\n",
    "\n",
    "A Tale of Two cities, a novel written by Charles Dickens was set in London and Paris which takes place during the French Revolution. These cities were both happening then and now. A lot has changed over the years and we now take a look at how the cities have grown. \n",
    "\n",
    "London and Paris are quite the popular tourist and vacation destinations for people all around the world. They are diverse and multicultural and offer a wide variety of experiences that is widely sought after. We try to group the neighbourhoods of London and Paris respectively and draw insights to what they look like now.\n",
    "\n",
    "# 2. Business Problem\n",
    "\n",
    "\n",
    "The aim is to help tourists choose their destinations depending on the experiences that the neighbourhoods have to offer and what they would want to have. This also helps people make decisions if they are thinking about migrating to London or Paris or even if they want to relocate neighbourhoods within the city. Our findings will help stakeholders make informed decisions and address any concerns they have including the different kinds of cuisines, provision stores and what the city has to offer. \n",
    "\n",
    "\n"]
}
